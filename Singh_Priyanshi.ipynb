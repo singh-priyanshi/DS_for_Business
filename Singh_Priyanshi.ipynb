{
  "cells": [
    {
      "cell_type": "markdown",
      "metadata": {
        "id": "XVTrf6WYPhaK"
      },
      "source": [
        "If you are already not in Colab you can open notebook in Colab by clicking below:\n",
        "\n",
        "<a href=\"https://drive.google.com/file/d/11me2WN2bQ3CTVYzPltxocrFNxlm60KkT/view?usp=drive_link\" target=\"_parent\"> <img src=\"https://colab.research.google.com/assets/colab-badge.svg\" alt=\"Open In Colab\" /> </a>"
      ]
    },
    {
      "cell_type": "markdown",
      "metadata": {
        "id": "ghI96inSDwvO"
      },
      "source": [
        "---\n",
        "**First things first --  Save a copy of this notebook in your own Google drive.  This will be necessary whenever you use one of the class notebooks so get into a good habit and keep your files organized!!**\n",
        "---\n",
        "\n",
        "##Please submit homework to Brightspace in the form of a file named **`lastname_firstname.ipynb`** AND as a pdf in the form of **`lastname_firstname.pdf`**"
      ]
    },
    {
      "cell_type": "markdown",
      "metadata": {
        "id": "FCrFLVYQDwvP"
      },
      "source": [
        "# Pre-class Homework HW0 - Colab and Python review\n",
        "\n",
        "\n",
        "\n",
        "As noted in the Syllabus, this class is intended for those who already know python.  We have created a few notebooks for you to go through to make sure you are at the right level.\n",
        "\n",
        "In class we will be using Google Colab as our Python development environment.  For those not familiar with Colab, it is a cloud-based IDE that makes it easy to share notebooks and data and work jointly with others.  Some of you may use other IDEs (Jupyter, VSCode,  Anaconda Spyder, or other) – that is fine – most of these systems are very similar notebook-based environments.     However, all of the examples in class and homeworks will be done using Colab, so it will be good to be familiar with it.  \n",
        "\n",
        "This Pre-Work assigment will be graded on completion only.\n",
        "\n",
        " To get a refresher on Colab, Jupyter Notebooks, and Python basics, walk through the following notebooks and the links therein.  (Nothing to be handed in).  You should be comfortable with the material.\n",
        "\n",
        "\n",
        "* <a href=\"https://colab.research.google.com/drive/14KCHj4u9kxIaGxju4rImeKjp37_idu6v\" target=\"_parent\"> Colab Basics</a>\n",
        "\n",
        "* <a href=\"https://colab.research.google.com/drive/14OqMZAH_QDl7oKNTjfU_t8BGHiujxp49\" target=\"_parent\"> Jupyter Notebook </a>\n",
        "\n",
        "* <a href=\"https://colab.research.google.com/drive/14DVlOeSMyXZyqq1LQ__VueBpxe-YQkrS\" target=\"_parent\">Python Basics</a>\n",
        "\n",
        "\n",
        "Complete the Python tasks below - this should either be review, or should be fairly simple for you to accomplish.  If this is a challenge, you may not be at the right level for the class.\n",
        "\n"
      ]
    },
    {
      "cell_type": "markdown",
      "metadata": {
        "id": "wn44HBPLDwvT"
      },
      "source": [
        "##  Python review"
      ]
    },
    {
      "cell_type": "markdown",
      "source": [
        "** This part is intended to review some Basic Python tasks.  You should be able to do these fairly easily."
      ],
      "metadata": {
        "id": "0JlvIpydXXe8"
      }
    },
    {
      "cell_type": "markdown",
      "source": [
        "**hey, did you remember to save this notebook to your own Google Drive before starting ?? **"
      ],
      "metadata": {
        "id": "BWSr45O9b7sk"
      }
    },
    {
      "cell_type": "markdown",
      "metadata": {
        "id": "O5b_tHFKDwvT"
      },
      "source": [
        "**1. Create one Python list of 5 unique fruits and another one with 5 unique colors.**"
      ]
    },
    {
      "cell_type": "markdown",
      "source": [],
      "metadata": {
        "id": "WC15YVacY7Ac"
      }
    },
    {
      "cell_type": "code",
      "execution_count": 1,
      "metadata": {
        "collapsed": true,
        "id": "JudQwX8iDwvT",
        "colab": {
          "base_uri": "https://localhost:8080/"
        },
        "outputId": "11e5d062-1369-4cae-a672-47de18346de1"
      },
      "outputs": [
        {
          "output_type": "stream",
          "name": "stdout",
          "text": [
            "List of fruits: ['apple', 'banana', 'orange', 'kiwi', 'pineapple']\n",
            "List of colors: ['red', 'blue', 'green', 'yellow', 'purple']\n"
          ]
        }
      ],
      "source": [
        "# List of 5 unique fruits\n",
        "fruits = ['apple', 'banana', 'orange', 'kiwi', 'pineapple']\n",
        "\n",
        "# List of 5 unique colors\n",
        "colors = ['red', 'blue', 'green', 'yellow', 'purple']\n",
        "\n",
        "# Print the lists\n",
        "print(\"List of fruits:\", fruits)\n",
        "print(\"List of colors:\", colors)"
      ]
    },
    {
      "cell_type": "markdown",
      "metadata": {
        "id": "cS3Y7LN4DwvU"
      },
      "source": [
        "**2. Go through each fruit (first list) and print out the name of the fruit with one color of the second list without repeating any color.**\n",
        "\n",
        "(don't worry, it doesn't have to be the color of the fruit!)\n",
        "\n",
        "Example of what you should print for one fruit:  _apple is purple_"
      ]
    },
    {
      "cell_type": "code",
      "execution_count": 2,
      "metadata": {
        "collapsed": true,
        "id": "HLchubYqDwvU",
        "colab": {
          "base_uri": "https://localhost:8080/"
        },
        "outputId": "40a474f7-aba3-4a7c-8e4e-203a3231f20a"
      },
      "outputs": [
        {
          "output_type": "stream",
          "name": "stdout",
          "text": [
            "apple is red\n",
            "banana is blue\n",
            "orange is green\n",
            "kiwi is yellow\n",
            "pineapple is purple\n"
          ]
        }
      ],
      "source": [
        "# Iterate through each fruit and pair it with a color\n",
        "for i in range(len(fruits)):\n",
        "    fruit = fruits[i]\n",
        "    color = colors[i % len(colors)]  # Use modulo to avoid going out of index for colors\n",
        "    print(f\"{fruit} is {color}\")"
      ]
    },
    {
      "cell_type": "markdown",
      "metadata": {
        "id": "yCeRrVQ4DwvV"
      },
      "source": [
        "**3. Add two new fruits to your list with a _BUILT-IN_ function.**\n",
        "\n",
        "\n",
        "(You may want to look for the function with the **TAB** hint!)"
      ]
    },
    {
      "cell_type": "code",
      "execution_count": 3,
      "metadata": {
        "collapsed": true,
        "id": "OyumEx_mDwvV",
        "colab": {
          "base_uri": "https://localhost:8080/"
        },
        "outputId": "9cc85149-1428-4bda-eca6-b07fcdae1128"
      },
      "outputs": [
        {
          "output_type": "execute_result",
          "data": {
            "text/plain": [
              "['apple', 'banana', 'orange', 'kiwi', 'pineapple', 'grape', 'watermelon']"
            ]
          },
          "metadata": {},
          "execution_count": 3
        }
      ],
      "source": [
        "# Add two new fruits to the list\n",
        "fruits.append('grape')\n",
        "fruits.append('watermelon')\n",
        "\n",
        "fruits"
      ]
    },
    {
      "cell_type": "markdown",
      "metadata": {
        "id": "MU6t5UM2DwvV"
      },
      "source": [
        "**4. Use the list of fruits and sort the names (put them in alphabetical order).**\n",
        "\n",
        "(Hint: The lists in Python already have a function for that)"
      ]
    },
    {
      "cell_type": "code",
      "execution_count": 4,
      "metadata": {
        "collapsed": true,
        "id": "Fv19_w4ODwvV",
        "colab": {
          "base_uri": "https://localhost:8080/"
        },
        "outputId": "3c56ac31-5ae5-49e2-872e-8a23e0fac0b6"
      },
      "outputs": [
        {
          "output_type": "execute_result",
          "data": {
            "text/plain": [
              "['apple', 'banana', 'grape', 'kiwi', 'orange', 'pineapple', 'watermelon']"
            ]
          },
          "metadata": {},
          "execution_count": 4
        }
      ],
      "source": [
        "# Sort the list of fruits in alphabetical order\n",
        "fruits.sort()\n",
        "\n",
        "fruits"
      ]
    },
    {
      "cell_type": "markdown",
      "metadata": {
        "id": "Yth51NLcDwvV"
      },
      "source": [
        "**5. Create a new empty list called \"count_letters\". Go through your list of fruits, and for each one, add an entry to that new list (count_letters) telling the number of letters each fruit name. Then, print how many letters each fruit has.**\n",
        "\n",
        "Example of what you should print for one fruit: _apple is 5 letters_"
      ]
    },
    {
      "cell_type": "code",
      "execution_count": 5,
      "metadata": {
        "collapsed": true,
        "id": "HC7FPjEeDwvV",
        "colab": {
          "base_uri": "https://localhost:8080/"
        },
        "outputId": "27be6fb4-3bb0-487c-e162-e5a07a1a4080"
      },
      "outputs": [
        {
          "output_type": "stream",
          "name": "stdout",
          "text": [
            "apple is 5 letters.\n",
            "banana is 6 letters.\n",
            "grape is 5 letters.\n",
            "kiwi is 4 letters.\n",
            "orange is 6 letters.\n",
            "pineapple is 9 letters.\n",
            "watermelon is 10 letters.\n",
            "Letter counts for each fruit: [5, 6, 5, 4, 6, 9, 10]\n"
          ]
        }
      ],
      "source": [
        "# Create a new empty list called \"count_letters\"\n",
        "count_letters = []\n",
        "\n",
        "# Iterate through each fruit and count the number of letters\n",
        "for fruit in fruits:\n",
        "    letter_count = len(fruit)\n",
        "    count_letters.append(letter_count)\n",
        "    print(f\"{fruit} is {letter_count} letters.\")\n",
        "\n",
        "# Print the list of letter counts\n",
        "print(\"Letter counts for each fruit:\", count_letters)"
      ]
    },
    {
      "cell_type": "markdown",
      "metadata": {
        "id": "DPtQ-uZLDwvW"
      },
      "source": [
        "**6. Make a function called `one_more` that takes a list (input_list) and returns a new list (output_list) where each element of the original will be increased by 1 and divided by 2.**"
      ]
    },
    {
      "cell_type": "code",
      "execution_count": 6,
      "metadata": {
        "collapsed": true,
        "id": "JsqDHQevDwvW",
        "colab": {
          "base_uri": "https://localhost:8080/"
        },
        "outputId": "82a65541-bd47-4ee5-c0e8-61667b71aafa"
      },
      "outputs": [
        {
          "output_type": "execute_result",
          "data": {
            "text/plain": [
              "[0.5, 1.0, 1.5, 2.0, 2.5]"
            ]
          },
          "metadata": {},
          "execution_count": 6
        }
      ],
      "source": [
        "def one_more(input_list):\n",
        "    output_list = []\n",
        "    # Your code goes here!\n",
        "    for i in range (len(input_list)):\n",
        "      output_list.append((input_list[i]+1)/2)\n",
        "    return output_list\n",
        "\n",
        "one_more(range(5))"
      ]
    },
    {
      "cell_type": "markdown",
      "metadata": {
        "id": "-HEPe42oDwvW"
      },
      "source": [
        "**7. Create a list of 10 random integers.  (Note: you may need to import a module).  Use the function from the last question to apply the `one_more` function to the members of the random list.  Print both lists.**"
      ]
    },
    {
      "cell_type": "code",
      "source": [
        "import random"
      ],
      "metadata": {
        "id": "VVwog44N125h"
      },
      "execution_count": 7,
      "outputs": []
    },
    {
      "cell_type": "code",
      "source": [
        "input_list = [random.randint(0,100) for i in range(10)]\n",
        "output_list = one_more(input_list)\n",
        "\n",
        "#Print lists\n",
        "\n",
        "print(f\"Input_list:{input_list}\")\n",
        "print(f\"Output_list:{output_list}\")"
      ],
      "metadata": {
        "colab": {
          "base_uri": "https://localhost:8080/"
        },
        "id": "msINvo46-X9m",
        "outputId": "8954c482-088c-429c-87ee-6b87b80be39d"
      },
      "execution_count": 8,
      "outputs": [
        {
          "output_type": "stream",
          "name": "stdout",
          "text": [
            "Input_list:[40, 23, 60, 38, 38, 55, 74, 61, 83, 55]\n",
            "Output_list:[20.5, 12.0, 30.5, 19.5, 19.5, 28.0, 37.5, 31.0, 42.0, 28.0]\n"
          ]
        }
      ]
    },
    {
      "cell_type": "markdown",
      "metadata": {
        "collapsed": true,
        "id": "dSsFCR-VDwvX"
      },
      "source": [
        "\n",
        "##Please submit homework to Brightspace in the form of a file named **`lastname_firstname.ipynb`** AND as a pdf in the form of **`lastname_firstname.pdf`**  If you have any trouble with this process, please reach out to your Teaching Assistant#\n",
        "\n"
      ]
    }
  ],
  "metadata": {
    "kernelspec": {
      "display_name": "Python 3",
      "language": "python",
      "name": "python3"
    },
    "language_info": {
      "codemirror_mode": {
        "name": "ipython",
        "version": 3
      },
      "file_extension": ".py",
      "mimetype": "text/x-python",
      "name": "python",
      "nbconvert_exporter": "python",
      "pygments_lexer": "ipython3",
      "version": "3.6.9"
    },
    "colab": {
      "provenance": []
    }
  },
  "nbformat": 4,
  "nbformat_minor": 0
}